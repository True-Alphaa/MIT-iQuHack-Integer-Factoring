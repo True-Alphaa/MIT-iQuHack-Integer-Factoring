{
  "nbformat": 4,
  "nbformat_minor": 0,
  "metadata": {
    "colab": {
      "provenance": [],
      "include_colab_link": true
    },
    "kernelspec": {
      "name": "python3",
      "display_name": "Python 3"
    },
    "language_info": {
      "name": "python"
    }
  },
  "cells": [
    {
      "cell_type": "markdown",
      "metadata": {
        "id": "view-in-github",
        "colab_type": "text"
      },
      "source": [
        "<a href=\"https://colab.research.google.com/github/Meta-user-byte/MIT-iQuHack/blob/main/quantum_rings.ipynb\" target=\"_parent\"><img src=\"https://colab.research.google.com/assets/colab-badge.svg\" alt=\"Open In Colab\"/></a>"
      ]
    },
    {
      "cell_type": "code",
      "execution_count": 1,
      "metadata": {
        "colab": {
          "base_uri": "https://localhost:8080/"
        },
        "id": "Ff3XJscgD9CN",
        "outputId": "968dbe80-0fbd-40cb-809f-be3a1d8a075e",
        "collapsed": true
      },
      "outputs": [
        {
          "output_type": "stream",
          "name": "stdout",
          "text": [
            "Collecting QuantumRingsLib\n",
            "  Downloading QuantumRingsLib-0.9.11-cp311-cp311-manylinux_2_34_x86_64.whl.metadata (21 kB)\n",
            "Downloading QuantumRingsLib-0.9.11-cp311-cp311-manylinux_2_34_x86_64.whl (1.5 MB)\n",
            "\u001b[2K   \u001b[90m━━━━━━━━━━━━━━━━━━━━━━━━━━━━━━━━━━━━━━━━\u001b[0m \u001b[32m1.5/1.5 MB\u001b[0m \u001b[31m27.5 MB/s\u001b[0m eta \u001b[36m0:00:00\u001b[0m\n",
            "\u001b[?25hInstalling collected packages: QuantumRingsLib\n",
            "Successfully installed QuantumRingsLib-0.9.11\n"
          ]
        }
      ],
      "source": [
        "!pip install QuantumRingsLib\n"
      ]
    },
    {
      "cell_type": "code",
      "source": [
        "!pip install qiskit==1.3.1"
      ],
      "metadata": {
        "colab": {
          "base_uri": "https://localhost:8080/"
        },
        "collapsed": true,
        "id": "AChnL_cfELGp",
        "outputId": "e4d4aa9a-7775-4b00-e70f-4eae441697be"
      },
      "execution_count": 2,
      "outputs": [
        {
          "output_type": "stream",
          "name": "stdout",
          "text": [
            "Collecting qiskit==1.3.1\n",
            "  Downloading qiskit-1.3.1-cp39-abi3-manylinux_2_17_x86_64.manylinux2014_x86_64.whl.metadata (12 kB)\n",
            "Collecting rustworkx>=0.15.0 (from qiskit==1.3.1)\n",
            "  Downloading rustworkx-0.16.0-cp39-abi3-manylinux_2_17_x86_64.manylinux2014_x86_64.whl.metadata (10 kB)\n",
            "Requirement already satisfied: numpy<3,>=1.17 in /usr/local/lib/python3.11/dist-packages (from qiskit==1.3.1) (1.26.4)\n",
            "Requirement already satisfied: scipy>=1.5 in /usr/local/lib/python3.11/dist-packages (from qiskit==1.3.1) (1.13.1)\n",
            "Requirement already satisfied: sympy>=1.3 in /usr/local/lib/python3.11/dist-packages (from qiskit==1.3.1) (1.13.1)\n",
            "Collecting dill>=0.3 (from qiskit==1.3.1)\n",
            "  Downloading dill-0.3.9-py3-none-any.whl.metadata (10 kB)\n",
            "Requirement already satisfied: python-dateutil>=2.8.0 in /usr/local/lib/python3.11/dist-packages (from qiskit==1.3.1) (2.8.2)\n",
            "Collecting stevedore>=3.0.0 (from qiskit==1.3.1)\n",
            "  Downloading stevedore-5.4.0-py3-none-any.whl.metadata (2.3 kB)\n",
            "Requirement already satisfied: typing-extensions in /usr/local/lib/python3.11/dist-packages (from qiskit==1.3.1) (4.12.2)\n",
            "Collecting symengine<0.14,>=0.11 (from qiskit==1.3.1)\n",
            "  Downloading symengine-0.13.0-cp311-cp311-manylinux_2_17_x86_64.manylinux2014_x86_64.whl.metadata (1.2 kB)\n",
            "Requirement already satisfied: six>=1.5 in /usr/local/lib/python3.11/dist-packages (from python-dateutil>=2.8.0->qiskit==1.3.1) (1.17.0)\n",
            "Collecting pbr>=2.0.0 (from stevedore>=3.0.0->qiskit==1.3.1)\n",
            "  Downloading pbr-6.1.0-py2.py3-none-any.whl.metadata (3.4 kB)\n",
            "Requirement already satisfied: mpmath<1.4,>=1.1.0 in /usr/local/lib/python3.11/dist-packages (from sympy>=1.3->qiskit==1.3.1) (1.3.0)\n",
            "Downloading qiskit-1.3.1-cp39-abi3-manylinux_2_17_x86_64.manylinux2014_x86_64.whl (6.7 MB)\n",
            "\u001b[2K   \u001b[90m━━━━━━━━━━━━━━━━━━━━━━━━━━━━━━━━━━━━━━━━\u001b[0m \u001b[32m6.7/6.7 MB\u001b[0m \u001b[31m64.7 MB/s\u001b[0m eta \u001b[36m0:00:00\u001b[0m\n",
            "\u001b[?25hDownloading dill-0.3.9-py3-none-any.whl (119 kB)\n",
            "\u001b[2K   \u001b[90m━━━━━━━━━━━━━━━━━━━━━━━━━━━━━━━━━━━━━━━━\u001b[0m \u001b[32m119.4/119.4 kB\u001b[0m \u001b[31m7.5 MB/s\u001b[0m eta \u001b[36m0:00:00\u001b[0m\n",
            "\u001b[?25hDownloading rustworkx-0.16.0-cp39-abi3-manylinux_2_17_x86_64.manylinux2014_x86_64.whl (2.1 MB)\n",
            "\u001b[2K   \u001b[90m━━━━━━━━━━━━━━━━━━━━━━━━━━━━━━━━━━━━━━━━\u001b[0m \u001b[32m2.1/2.1 MB\u001b[0m \u001b[31m27.3 MB/s\u001b[0m eta \u001b[36m0:00:00\u001b[0m\n",
            "\u001b[?25hDownloading stevedore-5.4.0-py3-none-any.whl (49 kB)\n",
            "\u001b[2K   \u001b[90m━━━━━━━━━━━━━━━━━━━━━━━━━━━━━━━━━━━━━━━━\u001b[0m \u001b[32m49.5/49.5 kB\u001b[0m \u001b[31m3.5 MB/s\u001b[0m eta \u001b[36m0:00:00\u001b[0m\n",
            "\u001b[?25hDownloading symengine-0.13.0-cp311-cp311-manylinux_2_17_x86_64.manylinux2014_x86_64.whl (49.7 MB)\n",
            "\u001b[2K   \u001b[90m━━━━━━━━━━━━━━━━━━━━━━━━━━━━━━━━━━━━━━━━\u001b[0m \u001b[32m49.7/49.7 MB\u001b[0m \u001b[31m11.9 MB/s\u001b[0m eta \u001b[36m0:00:00\u001b[0m\n",
            "\u001b[?25hDownloading pbr-6.1.0-py2.py3-none-any.whl (108 kB)\n",
            "\u001b[2K   \u001b[90m━━━━━━━━━━━━━━━━━━━━━━━━━━━━━━━━━━━━━━━━\u001b[0m \u001b[32m108.5/108.5 kB\u001b[0m \u001b[31m10.3 MB/s\u001b[0m eta \u001b[36m0:00:00\u001b[0m\n",
            "\u001b[?25hInstalling collected packages: symengine, rustworkx, pbr, dill, stevedore, qiskit\n",
            "Successfully installed dill-0.3.9 pbr-6.1.0 qiskit-1.3.1 rustworkx-0.16.0 stevedore-5.4.0 symengine-0.13.0\n"
          ]
        }
      ]
    },
    {
      "cell_type": "code",
      "source": [
        "import qiskit\n",
        "import QuantumRingsLib\n",
        "print (QuantumRingsLib.__version__)"
      ],
      "metadata": {
        "colab": {
          "base_uri": "https://localhost:8080/"
        },
        "id": "Lh1sOr4jEhNz",
        "outputId": "f5d24e7f-73ad-4c59-d305-ae3817d229e2"
      },
      "execution_count": 3,
      "outputs": [
        {
          "output_type": "stream",
          "name": "stdout",
          "text": [
            "0.9.0\n"
          ]
        }
      ]
    },
    {
      "cell_type": "code",
      "source": [
        "!pip install quantumrings-toolkit-qiskit\n"
      ],
      "metadata": {
        "colab": {
          "base_uri": "https://localhost:8080/"
        },
        "collapsed": true,
        "id": "KJ1xzPf-Eyl_",
        "outputId": "dca6e4f8-b243-4f63-c725-b45d92949d30"
      },
      "execution_count": 6,
      "outputs": [
        {
          "output_type": "stream",
          "name": "stdout",
          "text": [
            "Requirement already satisfied: quantumrings-toolkit-qiskit in /usr/local/lib/python3.11/dist-packages (0.1.9)\n",
            "Requirement already satisfied: numpy in /usr/local/lib/python3.11/dist-packages (from quantumrings-toolkit-qiskit) (1.26.4)\n",
            "Requirement already satisfied: qiskit in /usr/local/lib/python3.11/dist-packages (from quantumrings-toolkit-qiskit) (1.3.1)\n",
            "Requirement already satisfied: QuantumRingsLib in /usr/local/lib/python3.11/dist-packages (from quantumrings-toolkit-qiskit) (0.9.11)\n",
            "Requirement already satisfied: rustworkx>=0.15.0 in /usr/local/lib/python3.11/dist-packages (from qiskit->quantumrings-toolkit-qiskit) (0.16.0)\n",
            "Requirement already satisfied: scipy>=1.5 in /usr/local/lib/python3.11/dist-packages (from qiskit->quantumrings-toolkit-qiskit) (1.13.1)\n",
            "Requirement already satisfied: sympy>=1.3 in /usr/local/lib/python3.11/dist-packages (from qiskit->quantumrings-toolkit-qiskit) (1.13.1)\n",
            "Requirement already satisfied: dill>=0.3 in /usr/local/lib/python3.11/dist-packages (from qiskit->quantumrings-toolkit-qiskit) (0.3.9)\n",
            "Requirement already satisfied: python-dateutil>=2.8.0 in /usr/local/lib/python3.11/dist-packages (from qiskit->quantumrings-toolkit-qiskit) (2.8.2)\n",
            "Requirement already satisfied: stevedore>=3.0.0 in /usr/local/lib/python3.11/dist-packages (from qiskit->quantumrings-toolkit-qiskit) (5.4.0)\n",
            "Requirement already satisfied: typing-extensions in /usr/local/lib/python3.11/dist-packages (from qiskit->quantumrings-toolkit-qiskit) (4.12.2)\n",
            "Requirement already satisfied: symengine<0.14,>=0.11 in /usr/local/lib/python3.11/dist-packages (from qiskit->quantumrings-toolkit-qiskit) (0.13.0)\n",
            "Requirement already satisfied: six>=1.5 in /usr/local/lib/python3.11/dist-packages (from python-dateutil>=2.8.0->qiskit->quantumrings-toolkit-qiskit) (1.17.0)\n",
            "Requirement already satisfied: pbr>=2.0.0 in /usr/local/lib/python3.11/dist-packages (from stevedore>=3.0.0->qiskit->quantumrings-toolkit-qiskit) (6.1.0)\n",
            "Requirement already satisfied: mpmath<1.4,>=1.1.0 in /usr/local/lib/python3.11/dist-packages (from sympy>=1.3->qiskit->quantumrings-toolkit-qiskit) (1.3.0)\n"
          ]
        }
      ]
    },
    {
      "cell_type": "code",
      "source": [
        "import QuantumRingsLib\n",
        "from QuantumRingsLib import QuantumRegister, AncillaRegister, ClassicalRegister, QuantumCircuit\n",
        "from QuantumRingsLib import QuantumRingsProvider\n",
        "from QuantumRingsLib import job_monitor\n",
        "from QuantumRingsLib import JobStatus\n",
        "from matplotlib import pyplot as plt\n",
        "import numpy as np\n",
        "\n",
        "\n",
        "provider = QuantumRingsProvider(\n",
        "    token='rings-200.S6LCitPyRz7XDlPjsqk9Y3KFUUxtbtLY',\n",
        "    name='ankitphysics5327@rajdhani.du.ac.in'\n",
        ")\n",
        "backend = provider.get_backend(\"scarlet_quantum_rings\")\n",
        "\n",
        "provider.active_account()"
      ],
      "metadata": {
        "colab": {
          "base_uri": "https://localhost:8080/"
        },
        "id": "Be_WyHUaFHcX",
        "outputId": "d80ece71-744e-451b-bc23-569e70832cff"
      },
      "execution_count": 9,
      "outputs": [
        {
          "output_type": "execute_result",
          "data": {
            "text/plain": [
              "{'name': 'ankitphysics5327@rajdhani.du.ac.in',\n",
              " 'token': 'rings-200.S6LCitPyRz7XDlPjsqk9Y3KFUUxtbtLY',\n",
              " 'max_qubits': '200'}"
            ]
          },
          "metadata": {},
          "execution_count": 9
        }
      ]
    },
    {
      "cell_type": "code",
      "source": [
        "from QuantumRingsLib import Parameter, ParameterVector\n",
        "import math"
      ],
      "metadata": {
        "id": "X3KPmwj6J09C"
      },
      "execution_count": 10,
      "outputs": []
    },
    {
      "cell_type": "code",
      "source": [
        "import csv\n",
        "from concurrent.futures import ThreadPoolExecutor"
      ],
      "metadata": {
        "id": "zBJD3RVi2SDK"
      },
      "execution_count": 11,
      "outputs": []
    },
    {
      "cell_type": "code",
      "source": [
        "def approximate_iqft(qc, qubits, precision_cutoff=2):\n",
        "    \"\"\"\n",
        "    Approximate Inverse QFT with reduced gate count.\n",
        "    \"\"\"\n",
        "    n = len(qubits)\n",
        "    for i in range(n):\n",
        "        qc.h(qubits[i])\n",
        "        for j in range(1, min(i, precision_cutoff) + 1):\n",
        "            qc.cu1(-np.pi / (2 ** (i - j + 1)), qubits[j - 1], qubits[i])\n",
        "    qc.barrier()\n"
      ],
      "metadata": {
        "id": "ySebwDqbf5o8"
      },
      "execution_count": 12,
      "outputs": []
    },
    {
      "cell_type": "code",
      "source": [
        "def modular_exponentiation_optimized(qc, control_qubits, target_qubits, a, N):\n",
        "    \"\"\"\n",
        "    Optimized modular exponentiation with reduced gate depth.\n",
        "    \"\"\"\n",
        "    n = len(control_qubits)\n",
        "    for i in range(n):\n",
        "        exponent = 2 ** i\n",
        "        mod_exp = pow(a, exponent, N)\n",
        "        if mod_exp != 1:\n",
        "            # Apply optimized controlled operations\n",
        "            for j in range(len(target_qubits)):\n",
        "                if (mod_exp >> j) & 1:\n",
        "                    qc.cx(control_qubits[i], target_qubits[j])  # Keep CNOTs minimal\n",
        "    qc.barrier()\n"
      ],
      "metadata": {
        "id": "h3EKm_TCvGPj"
      },
      "execution_count": 13,
      "outputs": []
    },
    {
      "cell_type": "code",
      "source": [
        "def plot_histogram(counts, title=''):\n",
        "    fig, ax = plt.subplots(figsize=(10, 7))\n",
        "    plt.xlabel(\"States\")\n",
        "    plt.ylabel(\"Counts\")\n",
        "    mylist = [key for key, val in counts.items() for _ in range(val)]\n",
        "    unique, inverse = np.unique(mylist, return_inverse=True)\n",
        "    bin_counts = np.bincount(inverse)\n",
        "    plt.bar(unique, bin_counts)\n",
        "    plt.title(title)\n",
        "    plt.show()\n"
      ],
      "metadata": {
        "id": "WnYdfK1qvJPe"
      },
      "execution_count": 14,
      "outputs": []
    },
    {
      "cell_type": "code",
      "source": [
        "def initialize_circuit(bit_size):\n",
        "    control_qubits_count = bit_size + 2  # Add extra qubits for precision\n",
        "    num_qubits = control_qubits_count + bit_size // 2 + 2\n",
        "\n",
        "    q = QuantumRegister(num_qubits, 'q')\n",
        "    c = ClassicalRegister(control_qubits_count, 'c')\n",
        "    qc = QuantumCircuit(q, c)\n",
        "\n",
        "    return qc, q, c\n",
        "\n"
      ],
      "metadata": {
        "id": "rRfEbVVvvwvm"
      },
      "execution_count": 15,
      "outputs": []
    },
    {
      "cell_type": "code",
      "source": [
        "# Superposition Creation\n",
        "def create_superposition(qc, control_qubits):\n",
        "    for qubit in control_qubits:\n",
        "        qc.h(qubit)\n",
        "    qc.barrier()\n"
      ],
      "metadata": {
        "id": "O7oXJeUev0q5"
      },
      "execution_count": 16,
      "outputs": []
    },
    {
      "cell_type": "code",
      "source": [
        "import time"
      ],
      "metadata": {
        "id": "zpkwIpgfO3z1"
      },
      "execution_count": 17,
      "outputs": []
    },
    {
      "cell_type": "code",
      "source": [
        "# Measurement and Execution with Timing\n",
        "def measure_and_execute(qc, control_qubits, classical_bits, shots=10000):\n",
        "    start_time = time.time()\n",
        "    for i in range(min(len(control_qubits), len(classical_bits))):\n",
        "        qc.measure(control_qubits[i], classical_bits[i])\n",
        "    job = backend.run(qc, shots=shots)\n",
        "    job_monitor(job)\n",
        "    result = job.result()\n",
        "    counts = result.get_counts()\n",
        "    execution_time = time.time() - start_time\n",
        "    return counts, execution_time\n",
        "\n"
      ],
      "metadata": {
        "id": "SoHYNrrJwQCv"
      },
      "execution_count": 18,
      "outputs": []
    },
    {
      "cell_type": "code",
      "source": [
        "from semiprimes import semiprimes"
      ],
      "metadata": {
        "id": "h31MQsPMxREF"
      },
      "execution_count": 5,
      "outputs": []
    },
    {
      "cell_type": "code",
      "source": [
        "# Shor's Algorithm\n",
        "def shors_algorithm(bit_size, a=7):\n",
        "    N = semiprimes[bit_size]\n",
        "    qc, q, c = initialize_circuit(bit_size)\n",
        "    control_qubits = [q[i] for i in range(bit_size)]\n",
        "    target_qubits = [q[j] for j in range(bit_size, len(q))]\n",
        "\n",
        "    create_superposition(qc, control_qubits)\n",
        "    qc.x(len(q) - 1)\n",
        "    modular_exponentiation_optimized(qc, control_qubits, target_qubits, a, N)\n",
        "\n",
        "    counts, execution_time = measure_and_execute(qc, control_qubits, c)\n",
        "    most_common_state = max(counts, key=counts.get)\n",
        "    period_guess = int(most_common_state, 2)\n",
        "    f1, f2 = find_factors(N, a, period_guess)\n",
        "\n",
        "    if f1 and f2:\n",
        "        print(f\"Factors of {N}: {f1} and {f2} in {execution_time:.2f} seconds.\")\n",
        "    else:\n",
        "        print(f\"Failed to factor {N}, rerun the quantum algorithm.\")\n",
        "\n",
        "    return counts, execution_time, N, a"
      ],
      "metadata": {
        "id": "zl1peAv3wWcI"
      },
      "execution_count": 4,
      "outputs": []
    },
    {
      "cell_type": "markdown",
      "source": [
        "# New Section"
      ],
      "metadata": {
        "id": "O09sLso028Sy"
      }
    },
    {
      "cell_type": "code",
      "source": [
        "semiprimes[8]"
      ],
      "metadata": {
        "colab": {
          "base_uri": "https://localhost:8080/"
        },
        "id": "pjZx1Dg8Org-",
        "outputId": "cb48534d-3c5d-4deb-eff8-4a3b1089a5ae"
      },
      "execution_count": 6,
      "outputs": [
        {
          "output_type": "execute_result",
          "data": {
            "text/plain": [
              "143"
            ]
          },
          "metadata": {},
          "execution_count": 6
        }
      ]
    },
    {
      "cell_type": "code",
      "source": [
        "from concurrent.futures import ThreadPoolExecutor, as_completed, TimeoutError\n",
        "\n",
        "# Parallel Execution for Multiple Semiprimes\n",
        "def log_results():\n",
        "    bit_sizes = [8, 10, 12, 14, 16, 24, 32]\n",
        "    logs = []\n",
        "\n",
        "    with ThreadPoolExecutor() as executor:\n",
        "        futures = [executor.submit(shors_algorithm, bit_size) for bit_size in bit_sizes]\n",
        "\n",
        "        for future in futures:\n",
        "            counts, execution_time, N, a = future.result()\n",
        "            most_common_state = max(counts, key=counts.get)\n",
        "            period_guess = int(most_common_state, 2)\n",
        "            f1, f2 = find_factors(N, a, period_guess)\n",
        "\n",
        "            logs.append({\n",
        "                \"Bit Size\": bit_size,\n",
        "                \"Semiprime\": N,\n",
        "                \"Factors\": f\"{f1}, {f2}\" if f1 and f2 else \"Failed\",\n",
        "                \"Execution Time (s)\": execution_time\n",
        "            })\n",
        "\n",
        "    return logs"
      ],
      "metadata": {
        "id": "54JlWRVFxXR0"
      },
      "execution_count": 7,
      "outputs": []
    },
    {
      "cell_type": "code",
      "source": [
        "# Save Logs to CSV\n",
        "def save_logs_to_csv(logs, filename=\"shors_results.csv\"):\n",
        "    with open(filename, 'w', newline='') as file:\n",
        "        writer = csv.DictWriter(file, fieldnames=logs[0].keys())\n",
        "        writer.writeheader()\n",
        "        writer.writerows(logs)\n",
        "\n",
        "# Run the Logging and Save Results\n",
        "logs = log_results()\n",
        "save_logs_to_csv(logs)"
      ],
      "metadata": {
        "id": "vS-vh6GCxEnC"
      },
      "execution_count": null,
      "outputs": []
    },
    {
      "cell_type": "code",
      "source": [
        "from math import gcd\n",
        "\n",
        "def find_factors(N, a, r):\n",
        "    # Step 1: Ensure r is valid\n",
        "    if r % 2 != 0:\n",
        "        return None, None  # Period must be even\n",
        "\n",
        "    # Step 2: Compute the GCDs\n",
        "    factor1 = gcd(pow(a, r // 2) - 1, N)\n",
        "    factor2 = gcd(pow(a, r // 2) + 1, N)\n",
        "\n",
        "    # Step 3: Check if factors are non-trivial\n",
        "    if factor1 in [1, N] or factor2 in [1, N]:\n",
        "        return None, None  # Trivial factors found, rerun the quantum part\n",
        "\n",
        "    return factor1, factor2\n",
        "\n"
      ],
      "metadata": {
        "id": "mSP2kThFuj3F"
      },
      "execution_count": null,
      "outputs": []
    },
    {
      "cell_type": "code",
      "source": [
        "from math import gcd\n",
        "\n",
        "# Try different values of a\n",
        "for a in range(2, N):\n",
        "    if gcd(a, N) != 1:\n",
        "        continue  # Skip if not coprime with N\n",
        "\n",
        "    # Assume period found from quantum circuit\n",
        "    r = 44  # Placeholder; you'd get this from actual measurements\n",
        "\n",
        "    if pow(a, r, N) != 1 or r % 2 != 0:\n",
        "        continue  # Skip if period is invalid\n",
        "\n",
        "    f1, f2 = find_factors(N, a, r)\n",
        "    if f1 and f2:\n",
        "        print(f\"Factors of {N} are: {f1} and {f2}\")\n",
        "        break\n",
        "else:\n",
        "    print(\"Failed with all bases. Rerun the quantum algorithm.\")\n",
        "\n",
        "\n"
      ],
      "metadata": {
        "id": "LRO8XZlYvQb8"
      },
      "execution_count": null,
      "outputs": []
    }
  ]
}